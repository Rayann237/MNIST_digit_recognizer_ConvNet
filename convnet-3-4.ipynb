{
 "cells": [
  {
   "cell_type": "markdown",
   "id": "ca38acd3",
   "metadata": {
    "papermill": {
     "duration": 0.008674,
     "end_time": "2024-04-24T21:22:45.953647",
     "exception": false,
     "start_time": "2024-04-24T21:22:45.944973",
     "status": "completed"
    },
    "tags": []
   },
   "source": [
    "### Import Libraries"
   ]
  },
  {
   "cell_type": "code",
   "execution_count": 1,
   "id": "41897c26",
   "metadata": {
    "execution": {
     "iopub.execute_input": "2024-04-24T21:22:45.973118Z",
     "iopub.status.busy": "2024-04-24T21:22:45.972595Z",
     "iopub.status.idle": "2024-04-24T21:23:00.889139Z",
     "shell.execute_reply": "2024-04-24T21:23:00.887341Z"
    },
    "papermill": {
     "duration": 14.92982,
     "end_time": "2024-04-24T21:23:00.892624",
     "exception": false,
     "start_time": "2024-04-24T21:22:45.962804",
     "status": "completed"
    },
    "tags": []
   },
   "outputs": [],
   "source": [
    "import pandas as pd\n",
    "import numpy as np\n",
    "import matplotlib.pyplot as plt\n",
    "import seaborn as sns\n",
    "import tensorflow as tf\n",
    "\n",
    "from sklearn.model_selection import train_test_split\n",
    "from tensorflow.keras.preprocessing.image import ImageDataGenerator\n",
    "from tensorflow.keras.models import Sequential\n",
    "from tensorflow.keras.layers import Dense, Conv2D, MaxPooling2D, Flatten, Dropout, AveragePooling2D"
   ]
  },
  {
   "cell_type": "markdown",
   "id": "cf1982f4",
   "metadata": {
    "papermill": {
     "duration": 0.007921,
     "end_time": "2024-04-24T21:23:00.908941",
     "exception": false,
     "start_time": "2024-04-24T21:23:00.901020",
     "status": "completed"
    },
    "tags": []
   },
   "source": [
    "### Load Data"
   ]
  },
  {
   "cell_type": "code",
   "execution_count": 2,
   "id": "1e82f840",
   "metadata": {
    "execution": {
     "iopub.execute_input": "2024-04-24T21:23:00.928257Z",
     "iopub.status.busy": "2024-04-24T21:23:00.927379Z",
     "iopub.status.idle": "2024-04-24T21:23:05.854801Z",
     "shell.execute_reply": "2024-04-24T21:23:05.853596Z"
    },
    "papermill": {
     "duration": 4.941034,
     "end_time": "2024-04-24T21:23:05.858330",
     "exception": false,
     "start_time": "2024-04-24T21:23:00.917296",
     "status": "completed"
    },
    "tags": []
   },
   "outputs": [
    {
     "data": {
      "text/html": [
       "<div>\n",
       "<style scoped>\n",
       "    .dataframe tbody tr th:only-of-type {\n",
       "        vertical-align: middle;\n",
       "    }\n",
       "\n",
       "    .dataframe tbody tr th {\n",
       "        vertical-align: top;\n",
       "    }\n",
       "\n",
       "    .dataframe thead th {\n",
       "        text-align: right;\n",
       "    }\n",
       "</style>\n",
       "<table border=\"1\" class=\"dataframe\">\n",
       "  <thead>\n",
       "    <tr style=\"text-align: right;\">\n",
       "      <th></th>\n",
       "      <th>label</th>\n",
       "      <th>pixel0</th>\n",
       "      <th>pixel1</th>\n",
       "      <th>pixel2</th>\n",
       "      <th>pixel3</th>\n",
       "      <th>pixel4</th>\n",
       "      <th>pixel5</th>\n",
       "      <th>pixel6</th>\n",
       "      <th>pixel7</th>\n",
       "      <th>pixel8</th>\n",
       "      <th>...</th>\n",
       "      <th>pixel774</th>\n",
       "      <th>pixel775</th>\n",
       "      <th>pixel776</th>\n",
       "      <th>pixel777</th>\n",
       "      <th>pixel778</th>\n",
       "      <th>pixel779</th>\n",
       "      <th>pixel780</th>\n",
       "      <th>pixel781</th>\n",
       "      <th>pixel782</th>\n",
       "      <th>pixel783</th>\n",
       "    </tr>\n",
       "  </thead>\n",
       "  <tbody>\n",
       "    <tr>\n",
       "      <th>0</th>\n",
       "      <td>1</td>\n",
       "      <td>0</td>\n",
       "      <td>0</td>\n",
       "      <td>0</td>\n",
       "      <td>0</td>\n",
       "      <td>0</td>\n",
       "      <td>0</td>\n",
       "      <td>0</td>\n",
       "      <td>0</td>\n",
       "      <td>0</td>\n",
       "      <td>...</td>\n",
       "      <td>0</td>\n",
       "      <td>0</td>\n",
       "      <td>0</td>\n",
       "      <td>0</td>\n",
       "      <td>0</td>\n",
       "      <td>0</td>\n",
       "      <td>0</td>\n",
       "      <td>0</td>\n",
       "      <td>0</td>\n",
       "      <td>0</td>\n",
       "    </tr>\n",
       "    <tr>\n",
       "      <th>1</th>\n",
       "      <td>0</td>\n",
       "      <td>0</td>\n",
       "      <td>0</td>\n",
       "      <td>0</td>\n",
       "      <td>0</td>\n",
       "      <td>0</td>\n",
       "      <td>0</td>\n",
       "      <td>0</td>\n",
       "      <td>0</td>\n",
       "      <td>0</td>\n",
       "      <td>...</td>\n",
       "      <td>0</td>\n",
       "      <td>0</td>\n",
       "      <td>0</td>\n",
       "      <td>0</td>\n",
       "      <td>0</td>\n",
       "      <td>0</td>\n",
       "      <td>0</td>\n",
       "      <td>0</td>\n",
       "      <td>0</td>\n",
       "      <td>0</td>\n",
       "    </tr>\n",
       "    <tr>\n",
       "      <th>2</th>\n",
       "      <td>1</td>\n",
       "      <td>0</td>\n",
       "      <td>0</td>\n",
       "      <td>0</td>\n",
       "      <td>0</td>\n",
       "      <td>0</td>\n",
       "      <td>0</td>\n",
       "      <td>0</td>\n",
       "      <td>0</td>\n",
       "      <td>0</td>\n",
       "      <td>...</td>\n",
       "      <td>0</td>\n",
       "      <td>0</td>\n",
       "      <td>0</td>\n",
       "      <td>0</td>\n",
       "      <td>0</td>\n",
       "      <td>0</td>\n",
       "      <td>0</td>\n",
       "      <td>0</td>\n",
       "      <td>0</td>\n",
       "      <td>0</td>\n",
       "    </tr>\n",
       "    <tr>\n",
       "      <th>3</th>\n",
       "      <td>4</td>\n",
       "      <td>0</td>\n",
       "      <td>0</td>\n",
       "      <td>0</td>\n",
       "      <td>0</td>\n",
       "      <td>0</td>\n",
       "      <td>0</td>\n",
       "      <td>0</td>\n",
       "      <td>0</td>\n",
       "      <td>0</td>\n",
       "      <td>...</td>\n",
       "      <td>0</td>\n",
       "      <td>0</td>\n",
       "      <td>0</td>\n",
       "      <td>0</td>\n",
       "      <td>0</td>\n",
       "      <td>0</td>\n",
       "      <td>0</td>\n",
       "      <td>0</td>\n",
       "      <td>0</td>\n",
       "      <td>0</td>\n",
       "    </tr>\n",
       "    <tr>\n",
       "      <th>4</th>\n",
       "      <td>0</td>\n",
       "      <td>0</td>\n",
       "      <td>0</td>\n",
       "      <td>0</td>\n",
       "      <td>0</td>\n",
       "      <td>0</td>\n",
       "      <td>0</td>\n",
       "      <td>0</td>\n",
       "      <td>0</td>\n",
       "      <td>0</td>\n",
       "      <td>...</td>\n",
       "      <td>0</td>\n",
       "      <td>0</td>\n",
       "      <td>0</td>\n",
       "      <td>0</td>\n",
       "      <td>0</td>\n",
       "      <td>0</td>\n",
       "      <td>0</td>\n",
       "      <td>0</td>\n",
       "      <td>0</td>\n",
       "      <td>0</td>\n",
       "    </tr>\n",
       "  </tbody>\n",
       "</table>\n",
       "<p>5 rows × 785 columns</p>\n",
       "</div>"
      ],
      "text/plain": [
       "   label  pixel0  pixel1  pixel2  pixel3  pixel4  pixel5  pixel6  pixel7  \\\n",
       "0      1       0       0       0       0       0       0       0       0   \n",
       "1      0       0       0       0       0       0       0       0       0   \n",
       "2      1       0       0       0       0       0       0       0       0   \n",
       "3      4       0       0       0       0       0       0       0       0   \n",
       "4      0       0       0       0       0       0       0       0       0   \n",
       "\n",
       "   pixel8  ...  pixel774  pixel775  pixel776  pixel777  pixel778  pixel779  \\\n",
       "0       0  ...         0         0         0         0         0         0   \n",
       "1       0  ...         0         0         0         0         0         0   \n",
       "2       0  ...         0         0         0         0         0         0   \n",
       "3       0  ...         0         0         0         0         0         0   \n",
       "4       0  ...         0         0         0         0         0         0   \n",
       "\n",
       "   pixel780  pixel781  pixel782  pixel783  \n",
       "0         0         0         0         0  \n",
       "1         0         0         0         0  \n",
       "2         0         0         0         0  \n",
       "3         0         0         0         0  \n",
       "4         0         0         0         0  \n",
       "\n",
       "[5 rows x 785 columns]"
      ]
     },
     "execution_count": 2,
     "metadata": {},
     "output_type": "execute_result"
    }
   ],
   "source": [
    "# Look of the digit data use to train the model\n",
    "digit = pd.read_csv('/kaggle/input/digit-recognizer/train.csv')\n",
    "digit.head()"
   ]
  },
  {
   "cell_type": "code",
   "execution_count": 3,
   "id": "8d0b52f3",
   "metadata": {
    "execution": {
     "iopub.execute_input": "2024-04-24T21:23:05.877348Z",
     "iopub.status.busy": "2024-04-24T21:23:05.876838Z",
     "iopub.status.idle": "2024-04-24T21:23:05.941934Z",
     "shell.execute_reply": "2024-04-24T21:23:05.940632Z"
    },
    "papermill": {
     "duration": 0.078624,
     "end_time": "2024-04-24T21:23:05.945300",
     "exception": false,
     "start_time": "2024-04-24T21:23:05.866676",
     "status": "completed"
    },
    "tags": []
   },
   "outputs": [
    {
     "name": "stdout",
     "output_type": "stream",
     "text": [
      "<class 'pandas.core.frame.DataFrame'>\n",
      "RangeIndex: 42000 entries, 0 to 41999\n",
      "Columns: 785 entries, label to pixel783\n",
      "dtypes: int64(785)\n",
      "memory usage: 251.5 MB\n"
     ]
    }
   ],
   "source": [
    "digit.info()"
   ]
  },
  {
   "cell_type": "code",
   "execution_count": 4,
   "id": "845e52ac",
   "metadata": {
    "execution": {
     "iopub.execute_input": "2024-04-24T21:23:05.966307Z",
     "iopub.status.busy": "2024-04-24T21:23:05.965619Z",
     "iopub.status.idle": "2024-04-24T21:23:06.158212Z",
     "shell.execute_reply": "2024-04-24T21:23:06.155979Z"
    },
    "papermill": {
     "duration": 0.207201,
     "end_time": "2024-04-24T21:23:06.162009",
     "exception": false,
     "start_time": "2024-04-24T21:23:05.954808",
     "status": "completed"
    },
    "tags": []
   },
   "outputs": [
    {
     "data": {
      "text/plain": [
       "label\n",
       "0    4132\n",
       "1    4684\n",
       "2    4177\n",
       "3    4351\n",
       "4    4072\n",
       "5    3795\n",
       "6    4137\n",
       "7    4401\n",
       "8    4063\n",
       "9    4188\n",
       "Name: pixel0, dtype: int64"
      ]
     },
     "execution_count": 4,
     "metadata": {},
     "output_type": "execute_result"
    }
   ],
   "source": [
    "digit.groupby(by=\"label\").count()['pixel0']"
   ]
  },
  {
   "cell_type": "code",
   "execution_count": 5,
   "id": "b1ea4a02",
   "metadata": {
    "execution": {
     "iopub.execute_input": "2024-04-24T21:23:06.182929Z",
     "iopub.status.busy": "2024-04-24T21:23:06.182518Z",
     "iopub.status.idle": "2024-04-24T21:23:06.664056Z",
     "shell.execute_reply": "2024-04-24T21:23:06.662220Z"
    },
    "papermill": {
     "duration": 0.498226,
     "end_time": "2024-04-24T21:23:06.669663",
     "exception": false,
     "start_time": "2024-04-24T21:23:06.171437",
     "status": "completed"
    },
    "tags": []
   },
   "outputs": [],
   "source": [
    "digit_symbole = digit.drop('label', axis=1)\n",
    "digit_label = digit['label']\n",
    "digit_train, digit_val, label_train, label_val = train_test_split(digit_symbole, digit_label, test_size=0.2, random_state=42, stratify=digit['label'])"
   ]
  },
  {
   "cell_type": "code",
   "execution_count": 6,
   "id": "83e5cc21",
   "metadata": {
    "execution": {
     "iopub.execute_input": "2024-04-24T21:23:06.699494Z",
     "iopub.status.busy": "2024-04-24T21:23:06.697588Z",
     "iopub.status.idle": "2024-04-24T21:23:06.705478Z",
     "shell.execute_reply": "2024-04-24T21:23:06.704103Z"
    },
    "papermill": {
     "duration": 0.024377,
     "end_time": "2024-04-24T21:23:06.709471",
     "exception": false,
     "start_time": "2024-04-24T21:23:06.685094",
     "status": "completed"
    },
    "tags": []
   },
   "outputs": [],
   "source": [
    "# reshape the data\n",
    "digit_rs_train = digit_train.values.reshape(-1, 28, 28, 1)\n",
    "digit_rs_val = digit_val.values.reshape(-1, 28, 28, 1)\n",
    "label_rs_train = label_train.values.reshape(-1, 1)\n",
    "label_rs_val = label_val.values.reshape(-1, 1)"
   ]
  },
  {
   "cell_type": "code",
   "execution_count": 7,
   "id": "11e15b27",
   "metadata": {
    "execution": {
     "iopub.execute_input": "2024-04-24T21:23:06.731931Z",
     "iopub.status.busy": "2024-04-24T21:23:06.729727Z",
     "iopub.status.idle": "2024-04-24T21:23:06.752093Z",
     "shell.execute_reply": "2024-04-24T21:23:06.750857Z"
    },
    "papermill": {
     "duration": 0.035979,
     "end_time": "2024-04-24T21:23:06.754930",
     "exception": false,
     "start_time": "2024-04-24T21:23:06.718951",
     "status": "completed"
    },
    "tags": []
   },
   "outputs": [],
   "source": [
    "from sklearn.preprocessing import OneHotEncoder\n",
    "enc = OneHotEncoder()\n",
    "y_train = enc.fit_transform(label_rs_train).toarray()\n",
    "y_val = enc.fit_transform(label_rs_val).toarray()"
   ]
  },
  {
   "cell_type": "markdown",
   "id": "991a78f5",
   "metadata": {
    "papermill": {
     "duration": 0.008189,
     "end_time": "2024-04-24T21:23:06.771736",
     "exception": false,
     "start_time": "2024-04-24T21:23:06.763547",
     "status": "completed"
    },
    "tags": []
   },
   "source": [
    "### Data Augmentation"
   ]
  },
  {
   "cell_type": "code",
   "execution_count": 8,
   "id": "38df1be9",
   "metadata": {
    "execution": {
     "iopub.execute_input": "2024-04-24T21:23:06.793410Z",
     "iopub.status.busy": "2024-04-24T21:23:06.792454Z",
     "iopub.status.idle": "2024-04-24T21:23:06.797826Z",
     "shell.execute_reply": "2024-04-24T21:23:06.796944Z"
    },
    "papermill": {
     "duration": 0.018663,
     "end_time": "2024-04-24T21:23:06.800322",
     "exception": false,
     "start_time": "2024-04-24T21:23:06.781659",
     "status": "completed"
    },
    "tags": []
   },
   "outputs": [],
   "source": [
    "datagen = ImageDataGenerator(\n",
    "    rotation_range=10,\n",
    "    zoom_range=0.1,\n",
    "    width_shift_range=0.1,\n",
    "    height_shift_range=0.1,\n",
    ")"
   ]
  },
  {
   "cell_type": "code",
   "execution_count": 9,
   "id": "532cec68",
   "metadata": {
    "execution": {
     "iopub.execute_input": "2024-04-24T21:23:06.820715Z",
     "iopub.status.busy": "2024-04-24T21:23:06.819791Z",
     "iopub.status.idle": "2024-04-24T21:23:07.098142Z",
     "shell.execute_reply": "2024-04-24T21:23:07.096885Z"
    },
    "papermill": {
     "duration": 0.291599,
     "end_time": "2024-04-24T21:23:07.101040",
     "exception": false,
     "start_time": "2024-04-24T21:23:06.809441",
     "status": "completed"
    },
    "tags": []
   },
   "outputs": [],
   "source": [
    "norm_digit_train = digit_rs_train/255.0\n",
    "train_data = datagen.flow(norm_digit_train, y_train, batch_size=64)\n",
    "val_data = (digit_rs_val/255.0, y_val)"
   ]
  },
  {
   "cell_type": "code",
   "execution_count": 10,
   "id": "fa6ceaf7",
   "metadata": {
    "execution": {
     "iopub.execute_input": "2024-04-24T21:23:07.121179Z",
     "iopub.status.busy": "2024-04-24T21:23:07.120384Z",
     "iopub.status.idle": "2024-04-24T21:23:08.641487Z",
     "shell.execute_reply": "2024-04-24T21:23:08.639872Z"
    },
    "papermill": {
     "duration": 1.535367,
     "end_time": "2024-04-24T21:23:08.644938",
     "exception": false,
     "start_time": "2024-04-24T21:23:07.109571",
     "status": "completed"
    },
    "tags": []
   },
   "outputs": [
    {
     "data": {
      "image/png": "[encoded data removed]",
      "text/plain": [
       "<Figure size 800x800 with 9 Axes>"
      ]
     },
     "metadata": {},
     "output_type": "display_data"
    }
   ],
   "source": [
    "plt.figure(figsize=(8, 8))\n",
    "X_gen, y_gen = train_data[0]\n",
    "for i in range(0, 9):\n",
    "    plt.subplot(330 + 1 + i)\n",
    "    plt.imshow(X_gen[i].reshape(28, 28), cmap=plt.get_cmap('gray'))\n",
    "plt.show()"
   ]
  },
  {
   "cell_type": "markdown",
   "id": "5171f000",
   "metadata": {
    "papermill": {
     "duration": 0.010194,
     "end_time": "2024-04-24T21:23:08.664751",
     "exception": false,
     "start_time": "2024-04-24T21:23:08.654557",
     "status": "completed"
    },
    "tags": []
   },
   "source": [
    "### Build CNN Model"
   ]
  },
  {
   "cell_type": "code",
   "execution_count": 11,
   "id": "489a8a50",
   "metadata": {
    "execution": {
     "iopub.execute_input": "2024-04-24T21:23:08.686279Z",
     "iopub.status.busy": "2024-04-24T21:23:08.685721Z",
     "iopub.status.idle": "2024-04-24T21:23:09.087274Z",
     "shell.execute_reply": "2024-04-24T21:23:09.085622Z"
    },
    "papermill": {
     "duration": 0.416233,
     "end_time": "2024-04-24T21:23:09.090538",
     "exception": false,
     "start_time": "2024-04-24T21:23:08.674305",
     "status": "completed"
    },
    "tags": []
   },
   "outputs": [],
   "source": [
    "model = Sequential()\n",
    "model.add(Conv2D(32, (3, 3), activation='relu', input_shape=(28, 28, 1)))\n",
    "model.add(tf.keras.layers.BatchNormalization())\n",
    "model.add(AveragePooling2D())\n",
    "model.add(Dropout(0.2))\n",
    "model.add(Conv2D(64, (4, 4), activation='relu'))\n",
    "model.add(AveragePooling2D())\n",
    "model.add(tf.keras.layers.BatchNormalization())\n",
    "model.add(Dropout(0.2))\n",
    "model.add(Flatten())\n",
    "model.add(Dense(128, activation='relu'))\n",
    "model.add(tf.keras.layers.BatchNormalization())\n",
    "model.add(Dense(10, activation='softmax'))"
   ]
  },
  {
   "cell_type": "code",
   "execution_count": 12,
   "id": "1c539202",
   "metadata": {
    "execution": {
     "iopub.execute_input": "2024-04-24T21:23:09.113312Z",
     "iopub.status.busy": "2024-04-24T21:23:09.111687Z",
     "iopub.status.idle": "2024-04-24T21:23:09.176261Z",
     "shell.execute_reply": "2024-04-24T21:23:09.174284Z"
    },
    "papermill": {
     "duration": 0.078937,
     "end_time": "2024-04-24T21:23:09.179063",
     "exception": false,
     "start_time": "2024-04-24T21:23:09.100126",
     "status": "completed"
    },
    "tags": []
   },
   "outputs": [
    {
     "name": "stdout",
     "output_type": "stream",
     "text": [
      "Model: \"sequential\"\n",
      "_________________________________________________________________\n",
      " Layer (type)                Output Shape              Param #   \n",
      "=================================================================\n",
      " conv2d (Conv2D)             (None, 26, 26, 32)        320       \n",
      "                                                                 \n",
      " batch_normalization (BatchN  (None, 26, 26, 32)       128       \n",
      " ormalization)                                                   \n",
      "                                                                 \n",
      " average_pooling2d (AverageP  (None, 13, 13, 32)       0         \n",
      " ooling2D)                                                       \n",
      "                                                                 \n",
      " dropout (Dropout)           (None, 13, 13, 32)        0         \n",
      "                                                                 \n",
      " conv2d_1 (Conv2D)           (None, 10, 10, 64)        32832     \n",
      "                                                                 \n",
      " average_pooling2d_1 (Averag  (None, 5, 5, 64)         0         \n",
      " ePooling2D)                                                     \n",
      "                                                                 \n",
      " batch_normalization_1 (Batc  (None, 5, 5, 64)         256       \n",
      " hNormalization)                                                 \n",
      "                                                                 \n",
      " dropout_1 (Dropout)         (None, 5, 5, 64)          0         \n",
      "                                                                 \n",
      " flatten (Flatten)           (None, 1600)              0         \n",
      "                                                                 \n",
      " dense (Dense)               (None, 128)               204928    \n",
      "                                                                 \n",
      " batch_normalization_2 (Batc  (None, 128)              512       \n",
      " hNormalization)                                                 \n",
      "                                                                 \n",
      " dense_1 (Dense)             (None, 10)                1290      \n",
      "                                                                 \n",
      "=================================================================\n",
      "Total params: 240,266\n",
      "Trainable params: 239,818\n",
      "Non-trainable params: 448\n",
      "_________________________________________________________________\n"
     ]
    }
   ],
   "source": [
    "model.summary()"
   ]
  },
  {
   "cell_type": "code",
   "execution_count": 13,
   "id": "6b10b73b",
   "metadata": {
    "execution": {
     "iopub.execute_input": "2024-04-24T21:23:09.207473Z",
     "iopub.status.busy": "2024-04-24T21:23:09.206976Z",
     "iopub.status.idle": "2024-04-24T21:23:09.235123Z",
     "shell.execute_reply": "2024-04-24T21:23:09.233647Z"
    },
    "papermill": {
     "duration": 0.045767,
     "end_time": "2024-04-24T21:23:09.238136",
     "exception": false,
     "start_time": "2024-04-24T21:23:09.192369",
     "status": "completed"
    },
    "tags": []
   },
   "outputs": [],
   "source": [
    "model.compile(optimizer='adam', loss='categorical_crossentropy', metrics=['accuracy'])"
   ]
  },
  {
   "cell_type": "code",
   "execution_count": 14,
   "id": "606c3e9b",
   "metadata": {
    "execution": {
     "iopub.execute_input": "2024-04-24T21:23:09.267485Z",
     "iopub.status.busy": "2024-04-24T21:23:09.266999Z",
     "iopub.status.idle": "2024-04-24T22:02:44.286958Z",
     "shell.execute_reply": "2024-04-24T22:02:44.285839Z"
    },
    "papermill": {
     "duration": 2375.038402,
     "end_time": "2024-04-24T22:02:44.289826",
     "exception": false,
     "start_time": "2024-04-24T21:23:09.251424",
     "status": "completed"
    },
    "tags": []
   },
   "outputs": [
    {
     "name": "stdout",
     "output_type": "stream",
     "text": [
      "Epoch 1/60\n",
      "525/525 [==============================] - 39s 70ms/step - loss: 0.2825 - accuracy: 0.9132 - val_loss: 1.0509 - val_accuracy: 0.6746\n",
      "Epoch 2/60\n",
      "525/525 [==============================] - 36s 69ms/step - loss: 0.1026 - accuracy: 0.9682 - val_loss: 0.0488 - val_accuracy: 0.9840\n",
      "Epoch 3/60\n",
      "525/525 [==============================] - 36s 69ms/step - loss: 0.0849 - accuracy: 0.9736 - val_loss: 0.0388 - val_accuracy: 0.9889\n",
      "Epoch 4/60\n",
      "525/525 [==============================] - 37s 70ms/step - loss: 0.0713 - accuracy: 0.9778 - val_loss: 0.0356 - val_accuracy: 0.9880\n",
      "Epoch 5/60\n",
      "525/525 [==============================] - 37s 70ms/step - loss: 0.0621 - accuracy: 0.9806 - val_loss: 0.0348 - val_accuracy: 0.9893\n",
      "Epoch 6/60\n",
      "525/525 [==============================] - 40s 75ms/step - loss: 0.0548 - accuracy: 0.9829 - val_loss: 0.0295 - val_accuracy: 0.9910\n",
      "Epoch 7/60\n",
      "525/525 [==============================] - 38s 71ms/step - loss: 0.0516 - accuracy: 0.9831 - val_loss: 0.0297 - val_accuracy: 0.9906\n",
      "Epoch 8/60\n",
      "525/525 [==============================] - 37s 70ms/step - loss: 0.0517 - accuracy: 0.9842 - val_loss: 0.0259 - val_accuracy: 0.9924\n",
      "Epoch 9/60\n",
      "525/525 [==============================] - 36s 69ms/step - loss: 0.0461 - accuracy: 0.9855 - val_loss: 0.0257 - val_accuracy: 0.9915\n",
      "Epoch 10/60\n",
      "525/525 [==============================] - 36s 69ms/step - loss: 0.0454 - accuracy: 0.9851 - val_loss: 0.0358 - val_accuracy: 0.9875\n",
      "Epoch 11/60\n",
      "525/525 [==============================] - 37s 70ms/step - loss: 0.0396 - accuracy: 0.9877 - val_loss: 0.0258 - val_accuracy: 0.9924\n",
      "Epoch 12/60\n",
      "525/525 [==============================] - 37s 70ms/step - loss: 0.0410 - accuracy: 0.9870 - val_loss: 0.0265 - val_accuracy: 0.9924\n",
      "Epoch 13/60\n",
      "525/525 [==============================] - 36s 69ms/step - loss: 0.0390 - accuracy: 0.9879 - val_loss: 0.0249 - val_accuracy: 0.9921\n",
      "Epoch 14/60\n",
      "525/525 [==============================] - 39s 74ms/step - loss: 0.0372 - accuracy: 0.9877 - val_loss: 0.0237 - val_accuracy: 0.9924\n",
      "Epoch 15/60\n",
      "525/525 [==============================] - 37s 70ms/step - loss: 0.0351 - accuracy: 0.9889 - val_loss: 0.0189 - val_accuracy: 0.9939\n",
      "Epoch 16/60\n",
      "525/525 [==============================] - 36s 69ms/step - loss: 0.0340 - accuracy: 0.9887 - val_loss: 0.0209 - val_accuracy: 0.9933\n",
      "Epoch 17/60\n",
      "525/525 [==============================] - 37s 70ms/step - loss: 0.0379 - accuracy: 0.9880 - val_loss: 0.0175 - val_accuracy: 0.9950\n",
      "Epoch 18/60\n",
      "525/525 [==============================] - 37s 70ms/step - loss: 0.0311 - accuracy: 0.9897 - val_loss: 0.0197 - val_accuracy: 0.9942\n",
      "Epoch 19/60\n",
      "525/525 [==============================] - 37s 70ms/step - loss: 0.0287 - accuracy: 0.9906 - val_loss: 0.0207 - val_accuracy: 0.9935\n",
      "Epoch 20/60\n",
      "525/525 [==============================] - 37s 70ms/step - loss: 0.0311 - accuracy: 0.9904 - val_loss: 0.0179 - val_accuracy: 0.9948\n",
      "Epoch 21/60\n",
      "525/525 [==============================] - 37s 70ms/step - loss: 0.0321 - accuracy: 0.9898 - val_loss: 0.0207 - val_accuracy: 0.9943\n",
      "Epoch 22/60\n",
      "525/525 [==============================] - 36s 69ms/step - loss: 0.0286 - accuracy: 0.9904 - val_loss: 0.0164 - val_accuracy: 0.9948\n",
      "Epoch 23/60\n",
      "525/525 [==============================] - 37s 70ms/step - loss: 0.0303 - accuracy: 0.9906 - val_loss: 0.0221 - val_accuracy: 0.9939\n",
      "Epoch 24/60\n",
      "525/525 [==============================] - 37s 70ms/step - loss: 0.0278 - accuracy: 0.9909 - val_loss: 0.0218 - val_accuracy: 0.9933\n",
      "Epoch 25/60\n",
      "525/525 [==============================] - 36s 69ms/step - loss: 0.0271 - accuracy: 0.9910 - val_loss: 0.0256 - val_accuracy: 0.9921\n",
      "Epoch 26/60\n",
      "525/525 [==============================] - 36s 69ms/step - loss: 0.0268 - accuracy: 0.9917 - val_loss: 0.0222 - val_accuracy: 0.9933\n",
      "Epoch 27/60\n",
      "525/525 [==============================] - 37s 70ms/step - loss: 0.0260 - accuracy: 0.9914 - val_loss: 0.0180 - val_accuracy: 0.9949\n",
      "Epoch 28/60\n",
      "525/525 [==============================] - 36s 69ms/step - loss: 0.0276 - accuracy: 0.9908 - val_loss: 0.0174 - val_accuracy: 0.9945\n",
      "Epoch 29/60\n",
      "525/525 [==============================] - 36s 68ms/step - loss: 0.0235 - accuracy: 0.9924 - val_loss: 0.0174 - val_accuracy: 0.9951\n",
      "Epoch 30/60\n",
      "525/525 [==============================] - 36s 68ms/step - loss: 0.0245 - accuracy: 0.9925 - val_loss: 0.0151 - val_accuracy: 0.9954\n",
      "Epoch 31/60\n",
      "525/525 [==============================] - 36s 68ms/step - loss: 0.0252 - accuracy: 0.9917 - val_loss: 0.0211 - val_accuracy: 0.9935\n",
      "Epoch 32/60\n",
      "525/525 [==============================] - 36s 69ms/step - loss: 0.0255 - accuracy: 0.9919 - val_loss: 0.0226 - val_accuracy: 0.9936\n",
      "Epoch 33/60\n",
      "525/525 [==============================] - 36s 69ms/step - loss: 0.0233 - accuracy: 0.9924 - val_loss: 0.0176 - val_accuracy: 0.9945\n",
      "Epoch 34/60\n",
      "525/525 [==============================] - 36s 68ms/step - loss: 0.0230 - accuracy: 0.9923 - val_loss: 0.0156 - val_accuracy: 0.9957\n",
      "Epoch 35/60\n",
      "525/525 [==============================] - 36s 68ms/step - loss: 0.0242 - accuracy: 0.9923 - val_loss: 0.0169 - val_accuracy: 0.9950\n",
      "Epoch 36/60\n",
      "525/525 [==============================] - 36s 69ms/step - loss: 0.0230 - accuracy: 0.9926 - val_loss: 0.0152 - val_accuracy: 0.9956\n",
      "Epoch 37/60\n",
      "525/525 [==============================] - 36s 69ms/step - loss: 0.0234 - accuracy: 0.9928 - val_loss: 0.0181 - val_accuracy: 0.9949\n",
      "Epoch 38/60\n",
      "525/525 [==============================] - 36s 68ms/step - loss: 0.0238 - accuracy: 0.9921 - val_loss: 0.0189 - val_accuracy: 0.9946\n",
      "Epoch 39/60\n",
      "525/525 [==============================] - 36s 68ms/step - loss: 0.0229 - accuracy: 0.9924 - val_loss: 0.0174 - val_accuracy: 0.9949\n",
      "Epoch 40/60\n",
      "525/525 [==============================] - 36s 68ms/step - loss: 0.0219 - accuracy: 0.9931 - val_loss: 0.0159 - val_accuracy: 0.9950\n",
      "Epoch 41/60\n",
      "525/525 [==============================] - 36s 68ms/step - loss: 0.0215 - accuracy: 0.9930 - val_loss: 0.0180 - val_accuracy: 0.9950\n",
      "Epoch 42/60\n",
      "525/525 [==============================] - 36s 68ms/step - loss: 0.0190 - accuracy: 0.9938 - val_loss: 0.0163 - val_accuracy: 0.9954\n",
      "Epoch 43/60\n",
      "525/525 [==============================] - 36s 68ms/step - loss: 0.0208 - accuracy: 0.9933 - val_loss: 0.0168 - val_accuracy: 0.9948\n",
      "Epoch 44/60\n",
      "525/525 [==============================] - 36s 69ms/step - loss: 0.0196 - accuracy: 0.9937 - val_loss: 0.0188 - val_accuracy: 0.9945\n",
      "Epoch 45/60\n",
      "525/525 [==============================] - 37s 70ms/step - loss: 0.0202 - accuracy: 0.9935 - val_loss: 0.0253 - val_accuracy: 0.9933\n",
      "Epoch 46/60\n",
      "525/525 [==============================] - 36s 69ms/step - loss: 0.0211 - accuracy: 0.9930 - val_loss: 0.0160 - val_accuracy: 0.9954\n",
      "Epoch 47/60\n",
      "525/525 [==============================] - 36s 68ms/step - loss: 0.0210 - accuracy: 0.9935 - val_loss: 0.0157 - val_accuracy: 0.9956\n",
      "Epoch 48/60\n",
      "525/525 [==============================] - 36s 69ms/step - loss: 0.0204 - accuracy: 0.9932 - val_loss: 0.0160 - val_accuracy: 0.9948\n",
      "Epoch 49/60\n",
      "525/525 [==============================] - 36s 69ms/step - loss: 0.0202 - accuracy: 0.9933 - val_loss: 0.0191 - val_accuracy: 0.9943\n",
      "Epoch 50/60\n",
      "525/525 [==============================] - 36s 69ms/step - loss: 0.0187 - accuracy: 0.9940 - val_loss: 0.0253 - val_accuracy: 0.9920\n",
      "Epoch 51/60\n",
      "525/525 [==============================] - 36s 69ms/step - loss: 0.0194 - accuracy: 0.9939 - val_loss: 0.0168 - val_accuracy: 0.9949\n",
      "Epoch 52/60\n",
      "525/525 [==============================] - 37s 69ms/step - loss: 0.0180 - accuracy: 0.9943 - val_loss: 0.0167 - val_accuracy: 0.9951\n",
      "Epoch 53/60\n",
      "525/525 [==============================] - 36s 69ms/step - loss: 0.0177 - accuracy: 0.9944 - val_loss: 0.0163 - val_accuracy: 0.9954\n",
      "Epoch 54/60\n",
      "525/525 [==============================] - 36s 69ms/step - loss: 0.0176 - accuracy: 0.9943 - val_loss: 0.0195 - val_accuracy: 0.9946\n",
      "Epoch 55/60\n",
      "525/525 [==============================] - 37s 70ms/step - loss: 0.0171 - accuracy: 0.9943 - val_loss: 0.0155 - val_accuracy: 0.9955\n",
      "Epoch 56/60\n",
      "525/525 [==============================] - 36s 69ms/step - loss: 0.0197 - accuracy: 0.9937 - val_loss: 0.0177 - val_accuracy: 0.9950\n",
      "Epoch 57/60\n",
      "525/525 [==============================] - 36s 69ms/step - loss: 0.0199 - accuracy: 0.9936 - val_loss: 0.0206 - val_accuracy: 0.9940\n",
      "Epoch 58/60\n",
      "525/525 [==============================] - 36s 69ms/step - loss: 0.0180 - accuracy: 0.9940 - val_loss: 0.0156 - val_accuracy: 0.9957\n",
      "Epoch 59/60\n",
      "525/525 [==============================] - 36s 69ms/step - loss: 0.0154 - accuracy: 0.9949 - val_loss: 0.0141 - val_accuracy: 0.9962\n",
      "Epoch 60/60\n",
      "525/525 [==============================] - 37s 71ms/step - loss: 0.0154 - accuracy: 0.9953 - val_loss: 0.0151 - val_accuracy: 0.9958\n"
     ]
    }
   ],
   "source": [
    "history = model.fit(train_data, epochs=60, validation_data=val_data)"
   ]
  },
  {
   "cell_type": "markdown",
   "id": "7434ea98",
   "metadata": {
    "papermill": {
     "duration": 3.195925,
     "end_time": "2024-04-24T22:02:50.680776",
     "exception": false,
     "start_time": "2024-04-24T22:02:47.484851",
     "status": "completed"
    },
    "tags": []
   },
   "source": [
    "### Plot Loss and Accuracy"
   ]
  },
  {
   "cell_type": "code",
   "execution_count": 15,
   "id": "2a30fbbd",
   "metadata": {
    "execution": {
     "iopub.execute_input": "2024-04-24T22:02:56.975317Z",
     "iopub.status.busy": "2024-04-24T22:02:56.974432Z",
     "iopub.status.idle": "2024-04-24T22:02:57.335145Z",
     "shell.execute_reply": "2024-04-24T22:02:57.333606Z"
    },
    "papermill": {
     "duration": 3.570358,
     "end_time": "2024-04-24T22:02:57.338406",
     "exception": false,
     "start_time": "2024-04-24T22:02:53.768048",
     "status": "completed"
    },
    "tags": []
   },
   "outputs": [
    {
     "data": {
      "image/png": "[encoded data removed]",
      "text/plain": [
       "<Figure size 1200x800 with 1 Axes>"
      ]
     },
     "metadata": {},
     "output_type": "display_data"
    }
   ],
   "source": [
    "# graph the training and validation loss\n",
    "plt.figure(figsize=(12, 8))\n",
    "plt.plot(history.history['loss'], label='Training Loss')\n",
    "plt.plot(history.history['val_loss'], label='Validation Loss')\n",
    "plt.legend()\n",
    "plt.show()"
   ]
  },
  {
   "cell_type": "code",
   "execution_count": 16,
   "id": "807d0215",
   "metadata": {
    "execution": {
     "iopub.execute_input": "2024-04-24T22:03:03.875808Z",
     "iopub.status.busy": "2024-04-24T22:03:03.874327Z",
     "iopub.status.idle": "2024-04-24T22:03:04.216430Z",
     "shell.execute_reply": "2024-04-24T22:03:04.215158Z"
    },
    "papermill": {
     "duration": 3.657091,
     "end_time": "2024-04-24T22:03:04.219787",
     "exception": false,
     "start_time": "2024-04-24T22:03:00.562696",
     "status": "completed"
    },
    "tags": []
   },
   "outputs": [
    {
     "data": {
      "image/png": "[encoded data removed]",
      "text/plain": [
       "<Figure size 1200x800 with 1 Axes>"
      ]
     },
     "metadata": {},
     "output_type": "display_data"
    }
   ],
   "source": [
    "# plot the accuracy\n",
    "plt.figure(figsize=(12, 8))\n",
    "plt.plot(history.history['accuracy'], label='Training Accuracy')\n",
    "plt.plot(history.history['val_accuracy'], label='Validation Accuracy')\n",
    "plt.legend()\n",
    "plt.show()"
   ]
  },
  {
   "cell_type": "code",
   "execution_count": 17,
   "id": "6508e306",
   "metadata": {
    "execution": {
     "iopub.execute_input": "2024-04-24T22:03:10.449750Z",
     "iopub.status.busy": "2024-04-24T22:03:10.449343Z",
     "iopub.status.idle": "2024-04-24T22:03:14.160598Z",
     "shell.execute_reply": "2024-04-24T22:03:14.159029Z"
    },
    "papermill": {
     "duration": 6.826626,
     "end_time": "2024-04-24T22:03:14.164317",
     "exception": false,
     "start_time": "2024-04-24T22:03:07.337691",
     "status": "completed"
    },
    "tags": []
   },
   "outputs": [
    {
     "name": "stdout",
     "output_type": "stream",
     "text": [
      "263/263 [==============================] - 3s 10ms/step\n"
     ]
    },
    {
     "data": {
      "image/png": "[encoded data removed]",
      "text/plain": [
       "<Figure size 1200x800 with 2 Axes>"
      ]
     },
     "metadata": {},
     "output_type": "display_data"
    }
   ],
   "source": [
    "# print the confusion matrix\n",
    "from sklearn.metrics import confusion_matrix\n",
    "y_pred = model.predict(digit_rs_val/255.0)\n",
    "y_pred = np.argmax(y_pred, axis=1)\n",
    "y_true = np.argmax(y_val, axis=1)\n",
    "cm = confusion_matrix(y_true, y_pred)\n",
    "\n",
    "plt.figure(figsize=(12, 8))\n",
    "sns.heatmap(cm, annot=True, fmt='d')\n",
    "# axis labels\n",
    "plt.xlabel('Predicted')\n",
    "plt.ylabel('True')\n",
    "plt.show()"
   ]
  },
  {
   "cell_type": "markdown",
   "id": "308811f3",
   "metadata": {
    "papermill": {
     "duration": 3.144995,
     "end_time": "2024-04-24T22:03:20.448763",
     "exception": false,
     "start_time": "2024-04-24T22:03:17.303768",
     "status": "completed"
    },
    "tags": []
   },
   "source": [
    "### Submit"
   ]
  },
  {
   "cell_type": "code",
   "execution_count": 18,
   "id": "6a43424d",
   "metadata": {
    "execution": {
     "iopub.execute_input": "2024-04-24T22:03:26.658335Z",
     "iopub.status.busy": "2024-04-24T22:03:26.656324Z",
     "iopub.status.idle": "2024-04-24T22:03:39.034973Z",
     "shell.execute_reply": "2024-04-24T22:03:39.033642Z"
    },
    "papermill": {
     "duration": 15.622136,
     "end_time": "2024-04-24T22:03:39.037944",
     "exception": false,
     "start_time": "2024-04-24T22:03:23.415808",
     "status": "completed"
    },
    "tags": []
   },
   "outputs": [
    {
     "name": "stdout",
     "output_type": "stream",
     "text": [
      "875/875 [==============================] - 9s 10ms/step\n"
     ]
    }
   ],
   "source": [
    "# Load and preprocess test data\n",
    "test_data = pd.read_csv('/kaggle/input/digit-recognizer/test.csv')\n",
    "test_data = test_data.values.reshape(-1, 28, 28, 1)\n",
    "test_data = test_data / 255.0\n",
    "\n",
    "# Make predictions\n",
    "predictions = model.predict(test_data)\n",
    "resized_predictions = predictions.argmax(axis=1).reshape(-1, 1)"
   ]
  },
  {
   "cell_type": "code",
   "execution_count": 19,
   "id": "6aea31b7",
   "metadata": {
    "execution": {
     "iopub.execute_input": "2024-04-24T22:03:45.311278Z",
     "iopub.status.busy": "2024-04-24T22:03:45.310852Z",
     "iopub.status.idle": "2024-04-24T22:03:45.387845Z",
     "shell.execute_reply": "2024-04-24T22:03:45.386154Z"
    },
    "papermill": {
     "duration": 3.174503,
     "end_time": "2024-04-24T22:03:45.391062",
     "exception": false,
     "start_time": "2024-04-24T22:03:42.216559",
     "status": "completed"
    },
    "tags": []
   },
   "outputs": [],
   "source": [
    "# Assuming resized_predictions is a 2D NumPy array\n",
    "flat_predictions = resized_predictions.flatten()  # Flatten to a 1D array\n",
    "\n",
    "# Create a submission DataFrame\n",
    "submission = pd.DataFrame({'ImageId': range(1, len(test_data) + 1), 'Label': flat_predictions})\n",
    "\n",
    "# Save the submission to a CSV file\n",
    "submission.to_csv('/kaggle/working/submission.csv', index=False)"
   ]
  }
 ],
 "metadata": {
  "kaggle": {
   "accelerator": "none",
   "dataSources": [
    {
     "databundleVersionId": 861823,
     "sourceId": 3004,
     "sourceType": "competition"
    }
   ],
   "dockerImageVersionId": 30558,
   "isGpuEnabled": false,
   "isInternetEnabled": true,
   "language": "python",
   "sourceType": "notebook"
  },
  "kernelspec": {
   "display_name": "Python 3",
   "language": "python",
   "name": "python3"
  },
  "language_info": {
   "codemirror_mode": {
    "name": "ipython",
    "version": 3
   },
   "file_extension": ".py",
   "mimetype": "text/x-python",
   "name": "python",
   "nbconvert_exporter": "python",
   "pygments_lexer": "ipython3",
   "version": "3.10.12"
  },
  "papermill": {
   "default_parameters": {},
   "duration": 2470.468374,
   "end_time": "2024-04-24T22:03:51.682085",
   "environment_variables": {},
   "exception": null,
   "input_path": "__notebook__.ipynb",
   "output_path": "__notebook__.ipynb",
   "parameters": {},
   "start_time": "2024-04-24T21:22:41.213711",
   "version": "2.4.0"
  }
 },
 "nbformat": 4,
 "nbformat_minor": 5
}
